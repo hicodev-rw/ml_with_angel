{
 "cells": [
  {
   "cell_type": "markdown",
   "metadata": {},
   "source": [
    "#### Task Description: Predicting HIV Spread Using Logistic Regression\n",
    "\n",
    "This task involves using logistic regression to predict the likelihood of HIV spread based on various socio-economic, gender, and age factors."
   ]
  },
  {
   "cell_type": "markdown",
   "metadata": {},
   "source": [
    "#### Libraries"
   ]
  },
  {
   "cell_type": "code",
   "execution_count": 1,
   "metadata": {},
   "outputs": [],
   "source": [
    "\"\"\"Import all necessary libraries\"\"\"\n",
    "import pandas as pd \n",
    "import seaborn as sns\n",
    "import matplotlib.pyplot as plt\n",
    "from sklearn.model_selection import train_test_split\n",
    "from sklearn.preprocessing import LabelEncoder\n",
    "from sklearn.metrics import confusion_matrix, accuracy_score\n",
    "from sklearn.linear_model import LogisticRegression\n",
    "from tabulate import tabulate"
   ]
  },
  {
   "cell_type": "markdown",
   "metadata": {},
   "source": [
    "Part I: Load the Dataset and Calculate the Probability of infection"
   ]
  },
  {
   "cell_type": "code",
   "execution_count": 2,
   "metadata": {},
   "outputs": [],
   "source": [
    "# Load the dataset\n",
    "HIV_data = pd.read_csv('../datasets/HIV_spread.csv')\n",
    "\n",
    "\"\"\"\n",
    "    Understand the dataset: (Wealth category)\n",
    "    1: Rich\n",
    "    2: Average\n",
    "    3: Poor\n",
    "\"\"\"\n",
    "\n",
    "# TODO: fill missing values with the mean\n",
    "\n",
    "# TODO: Calculate the overall probability of infection\n",
    "\n",
    "# TODO: Display the probability"
   ]
  },
  {
   "cell_type": "markdown",
   "metadata": {},
   "source": [
    "#### PART II: Tables of infection Probabilities by people wealth category, Gender, and Age"
   ]
  },
  {
   "cell_type": "code",
   "execution_count": 3,
   "metadata": {},
   "outputs": [],
   "source": [
    "# TODO: calculate the infection probability for each category\n",
    "\n",
    "# TODO: calculate the infection probability by age group\n",
    "\n",
    "# TODO: calculate the infection probability by gender\n",
    "\n",
    "# TODO: print the infection tables"
   ]
  },
  {
   "cell_type": "markdown",
   "metadata": {},
   "source": [
    "#### Part III: Logistic Regression Model for infection Prediction"
   ]
  },
  {
   "cell_type": "code",
   "execution_count": 4,
   "metadata": {},
   "outputs": [],
   "source": [
    "# TODO: Encode categorical variables (Gender)\n",
    "\n",
    "# TODO: Prepare predictors and target\n",
    "\n",
    "# TODO: Split the data into training and test sets\n",
    "\n",
    "# TODO: Fit the logistic regression model"
   ]
  },
  {
   "cell_type": "markdown",
   "metadata": {},
   "source": [
    "#### Part IV: Model Performance (Classification Accuracy) Based on Confusion Matrix"
   ]
  },
  {
   "cell_type": "code",
   "execution_count": 5,
   "metadata": {},
   "outputs": [],
   "source": [
    "# TODO: Predict the infection using the logistic regression model\n",
    "\n",
    "# TODO:  Calculate the confusion matrix\n",
    "\n",
    "# TODO:  visualize the confusion matrix\n",
    "\n",
    "# TODO:  Calculate the accuracy using the accuracy_score function\n",
    "\n",
    "# TODO:  Calculate the accuracy based on the confusion matrix"
   ]
  }
 ],
 "metadata": {
  "kernelspec": {
   "display_name": "Python 3",
   "language": "python",
   "name": "python3"
  },
  "language_info": {
   "codemirror_mode": {
    "name": "ipython",
    "version": 3
   },
   "file_extension": ".py",
   "mimetype": "text/x-python",
   "name": "python",
   "nbconvert_exporter": "python",
   "pygments_lexer": "ipython3",
   "version": "3.12.5"
  }
 },
 "nbformat": 4,
 "nbformat_minor": 2
}
