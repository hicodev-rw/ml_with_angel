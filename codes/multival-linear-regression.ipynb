{
 "cells": [
  {
   "cell_type": "markdown",
   "metadata": {},
   "source": [
    "Here, we will use an insurance dataset to predit the premium to be paid by a person with 100yo and BMI of 35"
   ]
  },
  {
   "cell_type": "code",
   "execution_count": 7,
   "metadata": {},
   "outputs": [
    {
     "name": "stdout",
     "output_type": "stream",
     "text": [
      "The prediction of premium to be paid by a person with 100 years and BMI of 35 is: 89085.44151339598\n"
     ]
    }
   ],
   "source": [
    "from sklearn.linear_model import LinearRegression\n",
    "import numpy as np\n",
    "import pandas as pd\n",
    "import matplotlib.pyplot as plt\n",
    "\n",
    "# TO DO: load dataset\n",
    "df = pd.read_csv('../datasets/insurance.csv')\n",
    "# TO DO: identify variables (independent and dependent)\n",
    "x = df[['Age','BMI']]\n",
    "y = df['Premium']\n",
    "# TO DO: train the linear regression model\n",
    "model = LinearRegression()\n",
    "model.fit(x, y)\n",
    "# TO DO: make predictions\n",
    "y_predict = model.predict(x)\n",
    "# TO DO: visualize the data and model\n",
    "\n",
    "# TO DO: predict the premium for a 100 year old person\n",
    "x_new = pd.DataFrame([[100, 35]], columns=['Age', 'BMI'])\n",
    "premium_predict = model.predict(x_new)[0]\n",
    "print ('The prediction of premium to be paid by a person with 100 years and BMI of 35 is:',premium_predict)"
   ]
  },
  {
   "cell_type": "markdown",
   "metadata": {},
   "source": [
    "Try polynomial features and see how it works"
   ]
  },
  {
   "cell_type": "code",
   "execution_count": 2,
   "metadata": {},
   "outputs": [
    {
     "name": "stdout",
     "output_type": "stream",
     "text": [
      "The predicted premium for a 100-year-old person with a BMI of 35 is 90036.87822925406\n"
     ]
    }
   ],
   "source": [
    "from sklearn.preprocessing import PolynomialFeatures\n",
    "\n",
    "# TO DO: transform Features (use degree=2)\n",
    "poly = PolynomialFeatures(degree=2)\n",
    "x_poly = poly.fit_transform(x)\n",
    "# TO DO: train the model\n",
    "model = LinearRegression()\n",
    "model.fit(x_poly,y)\n",
    "# TO DO: make predictions\n",
    "y_predict = model.predict(x_poly)\n",
    "\n",
    "x_new =  pd.DataFrame([[100, 35]], columns=['Age', 'BMI'])\n",
    "x_new_poly = poly.transform(x_new)\n",
    "premium_predict = model.predict(x_new_poly)[0]\n",
    "\n",
    "print('The predicted premium for a 100-year-old person with a BMI of 35 is',premium_predict)\n",
    "# TO DO: visualize the data and model\n"
   ]
  }
 ],
 "metadata": {
  "kernelspec": {
   "display_name": "Python 3",
   "language": "python",
   "name": "python3"
  },
  "language_info": {
   "codemirror_mode": {
    "name": "ipython",
    "version": 3
   },
   "file_extension": ".py",
   "mimetype": "text/x-python",
   "name": "python",
   "nbconvert_exporter": "python",
   "pygments_lexer": "ipython3",
   "version": "3.12.6"
  }
 },
 "nbformat": 4,
 "nbformat_minor": 2
}
