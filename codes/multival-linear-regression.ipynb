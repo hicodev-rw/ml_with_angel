{
 "cells": [
  {
   "cell_type": "markdown",
   "metadata": {},
   "source": [
    "Here, we will use an insurance dataset to predit the premium to be paid by a person with 100yo and BMI of 35"
   ]
  },
  {
   "cell_type": "code",
   "execution_count": null,
   "metadata": {},
   "outputs": [],
   "source": [
    "from sklearn.linear_model import LinearRegression\n",
    "import numpy as np\n",
    "import pandas as pd\n",
    "import matplotlib.pyplot as plt\n",
    "\n",
    "# TO DO: load dataset\n",
    "\n",
    "# TO DO: identify variables (independent and dependent)\n",
    "\n",
    "# TO DO: train the linear regression model\n",
    "\n",
    "# TO DO: make predictions\n",
    "\n",
    "# TO DO: visualize the data and model\n",
    "\n",
    "# TO DO: predict the premium for a 100 year old person"
   ]
  },
  {
   "cell_type": "markdown",
   "metadata": {},
   "source": [
    "Try polynomial features and see how it works"
   ]
  },
  {
   "cell_type": "code",
   "execution_count": null,
   "metadata": {},
   "outputs": [],
   "source": [
    "from sklearn.preprocessing import PolynomialFeatures\n",
    "\n",
    "# TO DO: transform Features (use degree=2)\n",
    "\n",
    "# TO DO: train the model\n",
    "\n",
    "# TO DO: make predictions\n",
    "\n",
    "# TO DO: visualize the data and model"
   ]
  }
 ],
 "metadata": {
  "kernelspec": {
   "display_name": "Python 3",
   "language": "python",
   "name": "python3"
  },
  "language_info": {
   "codemirror_mode": {
    "name": "ipython",
    "version": 3
   },
   "file_extension": ".py",
   "mimetype": "text/x-python",
   "name": "python",
   "nbconvert_exporter": "python",
   "pygments_lexer": "ipython3",
   "version": "3.12.5"
  }
 },
 "nbformat": 4,
 "nbformat_minor": 2
}
